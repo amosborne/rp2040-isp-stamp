{
 "cells": [
  {
   "cell_type": "code",
   "execution_count": 1,
   "id": "41a82d3d-2271-4a72-8b53-6f9ac5221ae0",
   "metadata": {},
   "outputs": [],
   "source": [
    "%reload_ext lab_black\n",
    "from worstcase import param, derive, unit"
   ]
  },
  {
   "cell_type": "markdown",
   "id": "61dd48ea-3e81-439c-b482-03f964463e6c",
   "metadata": {},
   "source": [
    "* NeoPixel: [WS2812B-2020](https://www.mouser.com/pdfDocs/WS2812B-2020_V10_EN_181106150240761.pdf)\n",
    "* Charge Pump: [HX4002](https://datasheet.lcsc.com/lcsc/1806121849_HEXIN-HX4002-MFC_C172354.pdf)\n",
    "* Schottky Diode: [1N5819WS](https://datasheet.lcsc.com/lcsc/1912111437_KEXIN-1N5819WS_C369937.pdf)\n",
    "* Linear Regulator: [XC6206](https://datasheet.lcsc.com/lcsc/1809201513_Torex-Semicon-XC6206P332MR_C5446.pdf)\n",
    "* Switching Diode: [1N4148WS](https://datasheet.lcsc.com/lcsc/2109061630_YONGYUTAI-1N4148WS_C2892572.pdf)\n",
    "* QSPI Flase: [W25Q128JV](https://datasheet.lcsc.com/lcsc/1811142111_Winbond-Elec-W25Q128JVSIQ_C97521.pdf)"
   ]
  },
  {
   "cell_type": "code",
   "execution_count": 2,
   "id": "4f24950d-2a09-441e-aa2c-7a095f36bd6a",
   "metadata": {},
   "outputs": [],
   "source": [
    "# 5V load is assumed to be in the range of 10mA to 100mA\n",
    "# USB specification says 5V output has 5% tolerance\n",
    "VOUT_HX4002 = param.bytol(nom=5 * unit.V, tol=200 * unit.mV, rel=False)\n",
    "VFWD_1N5819WS_HX4002 = param.bytol(nom=250 * unit.mV, tol=50 * unit.mV, rel=False)\n",
    "VOUT_USB = param.bytol(nom=5 * unit.V, tol=0.05, rel=True)\n",
    "VFWD_1N5819WS_USB = param.bytol(nom=250 * unit.mV, tol=50 * unit.mV, rel=False)"
   ]
  },
  {
   "cell_type": "code",
   "execution_count": 3,
   "id": "b482c466-2833-4e5d-b761-58307c1cb6ab",
   "metadata": {},
   "outputs": [],
   "source": [
    "@derive.byev(VOUT_HX4002, VFWD_1N5819WS_HX4002, VOUT_USB, VFWD_1N5819WS_USB)\n",
    "def VOUT_5V(hx4002, hx4002_drop, usb, usb_drop):\n",
    "    return min(hx4002 - hx4002_drop, usb - usb_drop)"
   ]
  },
  {
   "cell_type": "code",
   "execution_count": 4,
   "id": "cb26d67b-0761-4a72-a08e-d4079db4a431",
   "metadata": {},
   "outputs": [
    {
     "ename": "AssertionError",
     "evalue": "NeoPixel undervoltage by 0.05 volt.",
     "output_type": "error",
     "traceback": [
      "\u001b[1;31m---------------------------------------------------------------------------\u001b[0m",
      "\u001b[1;31mAssertionError\u001b[0m                            Traceback (most recent call last)",
      "\u001b[1;32m<ipython-input-4-9341252568b8>\u001b[0m in \u001b[0;36m<module>\u001b[1;34m\u001b[0m\n\u001b[0;32m      1\u001b[0m \u001b[1;31m# verify the NeoPixel supply voltage requirement\u001b[0m\u001b[1;33m\u001b[0m\u001b[1;33m\u001b[0m\u001b[1;33m\u001b[0m\u001b[0m\n\u001b[0;32m      2\u001b[0m \u001b[1;32massert\u001b[0m \u001b[0mVOUT_5V\u001b[0m\u001b[1;33m.\u001b[0m\u001b[0mub\u001b[0m \u001b[1;33m<\u001b[0m \u001b[1;36m5.5\u001b[0m \u001b[1;33m*\u001b[0m \u001b[0munit\u001b[0m\u001b[1;33m.\u001b[0m\u001b[0mV\u001b[0m\u001b[1;33m\u001b[0m\u001b[1;33m\u001b[0m\u001b[0m\n\u001b[1;32m----> 3\u001b[1;33m \u001b[1;32massert\u001b[0m \u001b[0mVOUT_5V\u001b[0m\u001b[1;33m.\u001b[0m\u001b[0mlb\u001b[0m \u001b[1;33m>\u001b[0m \u001b[1;36m4.5\u001b[0m \u001b[1;33m*\u001b[0m \u001b[0munit\u001b[0m\u001b[1;33m.\u001b[0m\u001b[0mV\u001b[0m\u001b[1;33m,\u001b[0m \u001b[1;34m\"NeoPixel undervoltage by {:0.2f}.\"\u001b[0m\u001b[1;33m.\u001b[0m\u001b[0mformat\u001b[0m\u001b[1;33m(\u001b[0m\u001b[1;36m4.5\u001b[0m \u001b[1;33m*\u001b[0m \u001b[0munit\u001b[0m\u001b[1;33m.\u001b[0m\u001b[0mV\u001b[0m \u001b[1;33m-\u001b[0m \u001b[0mVOUT_5V\u001b[0m\u001b[1;33m.\u001b[0m\u001b[0mlb\u001b[0m\u001b[1;33m)\u001b[0m\u001b[1;33m\u001b[0m\u001b[1;33m\u001b[0m\u001b[0m\n\u001b[0m",
      "\u001b[1;31mAssertionError\u001b[0m: NeoPixel undervoltage by 0.05 volt."
     ]
    }
   ],
   "source": [
    "# verify the NeoPixel supply voltage requirement\n",
    "assert VOUT_5V.ub < 5.5 * unit.V\n",
    "assert VOUT_5V.lb > 4.5 * unit.V, \"NeoPixel undervoltage by {:0.2f}.\".format(4.5 * unit.V - VOUT_5V.lb)"
   ]
  },
  {
   "cell_type": "code",
   "execution_count": 5,
   "id": "47eda700-8c59-462b-bc31-3627622d064d",
   "metadata": {},
   "outputs": [],
   "source": [
    "# 3V3 load is assumed to be in the range of 10mA to 100mA\n",
    "ILOAD = param.byrange(nom=30 * unit.mA, lb=10 * unit.mA, ub=100 * unit.mA)\n",
    "VOUT_XC6206 = param.bytol(nom=3.3 * unit.V, tol=0.02, rel=True)\n",
    "VLOADREG_XC6206 = param.bytol(nom=0 * unit.V, tol=60 * unit.mV, rel=False)\n",
    "VLINEREG_XC6206 = param.byrange(nom=0.0005, lb=0.0005, ub=0.0025)\n",
    "VDO_XC6206 = param.byrange(nom=250 * unit.mV, lb=75 * unit.mV, ub=680 * unit.mV)"
   ]
  },
  {
   "cell_type": "code",
   "execution_count": 6,
   "id": "303923ae-30c5-4af9-bd48-2718e35407e0",
   "metadata": {},
   "outputs": [],
   "source": [
    "@derive.byev(VOUT_XC6206, VLOADREG_XC6206, VLINEREG_XC6206, VOUT_5V)\n",
    "def VOUT_3V3(out, loadreg, linereg, line):\n",
    "    return out + loadreg + linereg * line"
   ]
  },
  {
   "cell_type": "code",
   "execution_count": 7,
   "id": "31f99d03-0dbf-4e96-a657-b1975b5391e1",
   "metadata": {},
   "outputs": [],
   "source": [
    "# verify the qspi flash and rp2040 voltage requirements\n",
    "assert VOUT_3V3.lb > 3.135 * unit.V\n",
    "assert VOUT_3V3.ub < 3.6 * unit.V"
   ]
  },
  {
   "cell_type": "code",
   "execution_count": 8,
   "id": "5d27f2b3-78c0-4191-80c6-951451d9bb0a",
   "metadata": {},
   "outputs": [],
   "source": [
    "@derive.byev(VOUT_5V, VOUT_3V3, ILOAD, VDO_XC6206)\n",
    "def LDO_PWR_DISSIPATION(line, out, load, dropout):\n",
    "    res = 2.2 * unit.ohm\n",
    "    vin = line - res * load\n",
    "    assert res * load ** 2 < 100 * unit.mW  # verify series resistor dissipation\n",
    "    assert vin - out > dropout  # verify regulator dropout is exceeded\n",
    "    return (vin - out) * load"
   ]
  },
  {
   "cell_type": "code",
   "execution_count": 9,
   "id": "bef4d947-fdad-4a39-90f8-f19e5d425b16",
   "metadata": {},
   "outputs": [],
   "source": [
    "# verify the linear regulator power dissipation\n",
    "assert LDO_PWR_DISSIPATION.ub < 250 * unit.mW"
   ]
  },
  {
   "cell_type": "code",
   "execution_count": 10,
   "id": "398c086f-6bd0-4689-8950-e22a9dd2ff2e",
   "metadata": {},
   "outputs": [],
   "source": [
    "VOL_RP2040 = param.byrange(nom=0 * unit.V, lb=0 * unit.V, ub=0.5 * unit.V)\n",
    "VFWD_1N4148WS = param.bytol(nom=450 * unit.mV, tol=50 * unit.mV, rel=False)"
   ]
  },
  {
   "cell_type": "code",
   "execution_count": 11,
   "id": "57525711-6d76-4e07-af36-c2c9e3b54c16",
   "metadata": {},
   "outputs": [],
   "source": [
    "@derive.byev(VOUT_5V, VFWD_1N4148WS, VOUT_3V3)\n",
    "def NEOPIX_VIH_MARGIN(vcc, vfwd, vdd):\n",
    "    return vdd + vfwd - 0.7 * vcc"
   ]
  },
  {
   "cell_type": "code",
   "execution_count": 12,
   "id": "03d92069-6207-4683-a73c-4bdfd08218b2",
   "metadata": {},
   "outputs": [],
   "source": [
    "@derive.byev(VOUT_5V, VFWD_1N4148WS, VOL_RP2040)\n",
    "def NEOPIX_VIL_MARGIN(vcc, vfwd, vol):\n",
    "    return 0.3 * vcc - (vol + vfwd)"
   ]
  },
  {
   "cell_type": "code",
   "execution_count": 13,
   "id": "3e42a392-e3fb-408c-9e0f-76e7cc19c162",
   "metadata": {},
   "outputs": [],
   "source": [
    "# verify the NeoPixel input digital voltage level\n",
    "assert NEOPIX_VIH_MARGIN.lb > 0 * unit.V\n",
    "assert NEOPIX_VIL_MARGIN.lb > 0 * unit.V"
   ]
  }
 ],
 "metadata": {
  "kernelspec": {
   "display_name": "Python 3",
   "language": "python",
   "name": "python3"
  },
  "language_info": {
   "codemirror_mode": {
    "name": "ipython",
    "version": 3
   },
   "file_extension": ".py",
   "mimetype": "text/x-python",
   "name": "python",
   "nbconvert_exporter": "python",
   "pygments_lexer": "ipython3",
   "version": "3.9.4"
  }
 },
 "nbformat": 4,
 "nbformat_minor": 5
}
