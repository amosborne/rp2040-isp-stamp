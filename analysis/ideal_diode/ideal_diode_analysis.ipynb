{
 "cells": [
  {
   "cell_type": "code",
   "execution_count": 1,
   "id": "6423db00-1165-480f-8d2e-d99ad03ad555",
   "metadata": {},
   "outputs": [],
   "source": [
    "%reload_ext lab_black"
   ]
  },
  {
   "cell_type": "code",
   "execution_count": 70,
   "id": "ec67f54c-d481-471a-a0fe-efee2900662f",
   "metadata": {},
   "outputs": [],
   "source": [
    "import numpy as np\n",
    "from scipy.optimize import minimize_scalar\n",
    "from worstcase import param, derive, unit\n",
    "from pprint import pprint"
   ]
  },
  {
   "cell_type": "code",
   "execution_count": 3,
   "id": "b8c72f9a-76ed-471c-bd33-062055ac1259",
   "metadata": {},
   "outputs": [],
   "source": [
    "def ebers_moll_model(Is, Vbe, T):\n",
    "    q = 1.602176e-19 * unit.C\n",
    "    k = 1.3806503e-23 * unit(\"J/K\")\n",
    "    return Is * (np.exp(q * Vbe / (k * T)) - 1)"
   ]
  },
  {
   "cell_type": "code",
   "execution_count": 4,
   "id": "bd388e2a-8eb2-4753-8f68-a4316c78010a",
   "metadata": {},
   "outputs": [],
   "source": [
    "def dmmt3906(Vbe, T):\n",
    "    return ebers_moll_model(20.3 * unit.fA, Vbe, T).to(unit.mA)"
   ]
  },
  {
   "cell_type": "code",
   "execution_count": 5,
   "id": "9ba604a9-f751-4ec1-85b7-4064abbfce3d",
   "metadata": {},
   "outputs": [],
   "source": [
    "def dmmt3906_unitless(Vbe, T):\n",
    "    return dmmt3906(Vbe * unit.V, T * unit.K).to(unit.A).m"
   ]
  },
  {
   "cell_type": "code",
   "execution_count": 138,
   "id": "05402a9f-e83c-4589-83a7-ae02a02c3ff3",
   "metadata": {},
   "outputs": [],
   "source": [
    "VBE_MISMATCH = param.bytol(nom=0 * unit.mV, tol=2 * unit.mV, rel=False)\n",
    "HFE_MISMATCH = param.bytol(nom=0, tol=0.02, rel=False)\n",
    "HFE = param.byrange(nom=150, lb=80, ub=300)\n",
    "R1 = param.bytol(nom=3.6 * unit.kohm, tol=0.01, rel=True)\n",
    "R2 = param.bytol(nom=3.3 * unit.kohm, tol=0.01, rel=True)"
   ]
  },
  {
   "cell_type": "code",
   "execution_count": 139,
   "id": "5e0f9b28-4b9f-48bd-9706-4377ec63f294",
   "metadata": {},
   "outputs": [],
   "source": [
    "@derive.byev(\n",
    "    r1=R1.nom, r2=R2.nom, hfe1=HFE, vbe_mismatch=VBE_MISMATCH, hfe_mismatch=HFE_MISMATCH\n",
    ")\n",
    "def IDIODE(vout, vgsth, rdson, r1, r2, hfe1, vbe_mismatch, hfe_mismatch, temp):\n",
    "    # the system of equations will be solved numerically\n",
    "    def idiode_error(idiode_estimate):\n",
    "        def inverse_dmmt3906(ic):\n",
    "            vbefun = lambda vbe: dmmt3906_unitless(vbe, temp.to(unit.K).m)\n",
    "            minfun = lambda vbe: (vbefun(vbe) - ic.to(unit.A).m) ** 2\n",
    "            result = minimize_scalar(minfun)\n",
    "            assert result.success\n",
    "            return result.x * unit.V\n",
    "\n",
    "        vc2 = vout - vgsth  # pass transistor is \"barely on\" (at threshold)\n",
    "        ic2 = vc2 / r2\n",
    "        vbe2 = inverse_dmmt3906(ic2)\n",
    "        hfe2 = hfe1 * (1 + hfe_mismatch)\n",
    "        ib2 = ic2 / hfe2\n",
    "        vb = vout - vbe2\n",
    "\n",
    "        ie1 = vb / r1 - ib2\n",
    "        ic1 = ie1 * hfe1 / (1 + hfe1)\n",
    "        ib1 = ic1 / hfe1\n",
    "        vbe1 = inverse_dmmt3906(ic1)\n",
    "        vbe1 += vbe_mismatch\n",
    "        vin = vb + vbe1\n",
    "\n",
    "        # print(\"Q2:\", vout, vb, vc2, ic2.to(unit.mA), ib2.to(unit.mA))\n",
    "        # print(\"Q1:\", vin, ic1.to(unit.mA), ib1.to(unit.mA))\n",
    "\n",
    "        idiode_actual = (vin - vout) / rdson\n",
    "        return (idiode_actual.to(unit.A).m - idiode_estimate) ** 2\n",
    "\n",
    "    result = minimize_scalar(idiode_error)\n",
    "    assert result.success\n",
    "    return result.x * unit.A"
   ]
  },
  {
   "cell_type": "code",
   "execution_count": 140,
   "id": "768f42fb-2ef2-44ca-a43b-197ef31682e5",
   "metadata": {},
   "outputs": [],
   "source": [
    "RDSON = param.bytol(nom=600 * unit.mohm, tol=200 * unit.mohm, rel=False)\n",
    "VGSTH = param.bytol(nom=1.0 * unit.V, tol=200 * unit.mV, rel=False)"
   ]
  },
  {
   "cell_type": "code",
   "execution_count": 141,
   "id": "d04ae770-fc02-4553-84da-b52ef46cfa56",
   "metadata": {},
   "outputs": [],
   "source": [
    "idiode = IDIODE(\n",
    "    vout=3.3 * unit.V,\n",
    "    vgsth=VGSTH,\n",
    "    rdson=RDSON,\n",
    "    temp=273 * unit.K,\n",
    ")  # note: SI2301CDS mosfet with ~330mohm series resistance"
   ]
  },
  {
   "cell_type": "code",
   "execution_count": 142,
   "id": "8cd80dc1-8dfe-45dc-aef4-cf64cc77dffc",
   "metadata": {},
   "outputs": [],
   "source": [
    "idiode_ev = idiode(tag=\"extreme-value\")()"
   ]
  },
  {
   "cell_type": "code",
   "execution_count": 143,
   "id": "942eef95-be26-4cd8-a7be-1b3f6feaf3cf",
   "metadata": {},
   "outputs": [],
   "source": [
    "idiode_pe = idiode(tag=\"pass-element\").ss([VGSTH, RDSON])"
   ]
  },
  {
   "cell_type": "code",
   "execution_count": 144,
   "id": "33bec262-64f3-48b2-9840-3ac27d779dac",
   "metadata": {},
   "outputs": [],
   "source": [
    "idiode_mp = idiode(tag=\"matched-pair\").ss([VBE_MISMATCH, HFE_MISMATCH, HFE])"
   ]
  },
  {
   "cell_type": "code",
   "execution_count": 145,
   "id": "2fe184f2-dc11-4f6b-a1fc-008c7c06af45",
   "metadata": {},
   "outputs": [
    {
     "name": "stdout",
     "output_type": "stream",
     "text": [
      "[extreme-value: 2.797 mA (nom), -6.484 mA (lb), 14.99 mA (ub),\n",
      " pass-element: 2.797 mA (nom), -783 µA (lb), 9.623 mA (ub),\n",
      " matched-pair: 2.797 mA (nom), -984.6 µA (lb), 6.383 mA (ub)]\n"
     ]
    }
   ],
   "source": [
    "pprint([idiode_ev, idiode_pe, idiode_mp])"
   ]
  },
  {
   "cell_type": "code",
   "execution_count": 146,
   "id": "81520910-c84e-42c0-9ac9-29e4edb84b7a",
   "metadata": {},
   "outputs": [],
   "source": [
    "uc_pe = (idiode_pe.ub - idiode_pe.lb) / 2  # pass-element uncertainty contrib\n",
    "uc_mp = (idiode_mp.ub - idiode_mp.lb) / 2  # matched-pair uncertainty contrib\n",
    "uc_br = 1 * unit.mA  # bias-resistors uncertainty contrib"
   ]
  },
  {
   "cell_type": "code",
   "execution_count": 147,
   "id": "6678e5bb-6d02-49ef-869f-e89a79fe61ad",
   "metadata": {},
   "outputs": [
    {
     "data": {
      "text/html": [
       "6.453205740710734 milliampere"
      ],
      "text/latex": [
       "$6.453205740710734\\ \\mathrm{milliampere}$"
      ],
      "text/plain": [
       "6.453205740710734 <Unit('milliampere')>"
      ]
     },
     "execution_count": 147,
     "metadata": {},
     "output_type": "execute_result"
    }
   ],
   "source": [
    "np.sqrt(uc_pe ** 2 + uc_mp ** 2 + uc_br ** 2).to(unit.mA)  # RSS uncertainty"
   ]
  },
  {
   "cell_type": "code",
   "execution_count": 117,
   "id": "02bcd001-324c-497c-9e8d-9a269b2cb115",
   "metadata": {},
   "outputs": [
    {
     "data": {
      "text/html": [
       "100.0 millivolt"
      ],
      "text/latex": [
       "$100.0\\ \\mathrm{millivolt}$"
      ],
      "text/plain": [
       "100.0 <Unit('millivolt')>"
      ]
     },
     "execution_count": 117,
     "metadata": {},
     "output_type": "execute_result"
    }
   ],
   "source": [
    "max_current = 125 * unit.mA\n",
    "(RDSON.ub * max_current).to(unit.mV)  # max forward voltage drop when USB unpowered"
   ]
  }
 ],
 "metadata": {
  "kernelspec": {
   "display_name": "Python 3",
   "language": "python",
   "name": "python3"
  },
  "language_info": {
   "codemirror_mode": {
    "name": "ipython",
    "version": 3
   },
   "file_extension": ".py",
   "mimetype": "text/x-python",
   "name": "python",
   "nbconvert_exporter": "python",
   "pygments_lexer": "ipython3",
   "version": "3.9.4"
  }
 },
 "nbformat": 4,
 "nbformat_minor": 5
}
